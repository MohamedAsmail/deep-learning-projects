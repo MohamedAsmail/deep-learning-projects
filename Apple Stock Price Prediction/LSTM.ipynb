{
 "cells": [
  {
   "cell_type": "code",
   "execution_count": 1,
   "metadata": {
    "id": "sp2LE61tnopn"
   },
   "outputs": [],
   "source": [
    "import numpy as np \n",
    "import pandas as pd\n",
    "import tensorflow as tf\n",
    "import matplotlib.pyplot as plt\n"
   ]
  },
  {
   "cell_type": "code",
   "execution_count": 2,
   "metadata": {
    "colab": {
     "base_uri": "https://localhost:8080/",
     "height": 250
    },
    "id": "Pa94toh0oDTF",
    "outputId": "c36f3e17-3bd3-4a7a-b08d-a8821cf4a7e7"
   },
   "outputs": [
    {
     "data": {
      "text/html": [
       "\n",
       "  <div id=\"df-e1dc0ab9-2e01-421c-b385-8aa4f011a2d6\">\n",
       "    <div class=\"colab-df-container\">\n",
       "      <div>\n",
       "<style scoped>\n",
       "    .dataframe tbody tr th:only-of-type {\n",
       "        vertical-align: middle;\n",
       "    }\n",
       "\n",
       "    .dataframe tbody tr th {\n",
       "        vertical-align: top;\n",
       "    }\n",
       "\n",
       "    .dataframe thead th {\n",
       "        text-align: right;\n",
       "    }\n",
       "</style>\n",
       "<table border=\"1\" class=\"dataframe\">\n",
       "  <thead>\n",
       "    <tr style=\"text-align: right;\">\n",
       "      <th></th>\n",
       "      <th>Date</th>\n",
       "      <th>Open</th>\n",
       "      <th>High</th>\n",
       "      <th>Low</th>\n",
       "      <th>Close</th>\n",
       "      <th>Volume</th>\n",
       "      <th>Ex-Dividend</th>\n",
       "      <th>Split Ratio</th>\n",
       "      <th>Adj. Open</th>\n",
       "      <th>Adj. High</th>\n",
       "      <th>Adj. Low</th>\n",
       "      <th>Adj. Close</th>\n",
       "      <th>Adj. Volume</th>\n",
       "    </tr>\n",
       "  </thead>\n",
       "  <tbody>\n",
       "    <tr>\n",
       "      <th>0</th>\n",
       "      <td>2010-01-04</td>\n",
       "      <td>213.43</td>\n",
       "      <td>214.50</td>\n",
       "      <td>212.38</td>\n",
       "      <td>214.01</td>\n",
       "      <td>17633200.0</td>\n",
       "      <td>0.0</td>\n",
       "      <td>1.0</td>\n",
       "      <td>27.428730</td>\n",
       "      <td>27.566240</td>\n",
       "      <td>27.293790</td>\n",
       "      <td>27.503268</td>\n",
       "      <td>123432400.0</td>\n",
       "    </tr>\n",
       "    <tr>\n",
       "      <th>1</th>\n",
       "      <td>2010-01-05</td>\n",
       "      <td>214.60</td>\n",
       "      <td>215.59</td>\n",
       "      <td>213.25</td>\n",
       "      <td>214.38</td>\n",
       "      <td>21496600.0</td>\n",
       "      <td>0.0</td>\n",
       "      <td>1.0</td>\n",
       "      <td>27.579091</td>\n",
       "      <td>27.706320</td>\n",
       "      <td>27.405597</td>\n",
       "      <td>27.550818</td>\n",
       "      <td>150476200.0</td>\n",
       "    </tr>\n",
       "    <tr>\n",
       "      <th>2</th>\n",
       "      <td>2010-01-06</td>\n",
       "      <td>214.38</td>\n",
       "      <td>215.23</td>\n",
       "      <td>210.75</td>\n",
       "      <td>210.97</td>\n",
       "      <td>19720000.0</td>\n",
       "      <td>0.0</td>\n",
       "      <td>1.0</td>\n",
       "      <td>27.550818</td>\n",
       "      <td>27.660055</td>\n",
       "      <td>27.084312</td>\n",
       "      <td>27.112585</td>\n",
       "      <td>138040000.0</td>\n",
       "    </tr>\n",
       "    <tr>\n",
       "      <th>3</th>\n",
       "      <td>2010-01-07</td>\n",
       "      <td>211.75</td>\n",
       "      <td>212.00</td>\n",
       "      <td>209.05</td>\n",
       "      <td>210.58</td>\n",
       "      <td>17040400.0</td>\n",
       "      <td>0.0</td>\n",
       "      <td>1.0</td>\n",
       "      <td>27.212826</td>\n",
       "      <td>27.244955</td>\n",
       "      <td>26.865839</td>\n",
       "      <td>27.062465</td>\n",
       "      <td>119282800.0</td>\n",
       "    </tr>\n",
       "    <tr>\n",
       "      <th>4</th>\n",
       "      <td>2010-01-08</td>\n",
       "      <td>210.30</td>\n",
       "      <td>212.00</td>\n",
       "      <td>209.06</td>\n",
       "      <td>211.98</td>\n",
       "      <td>15986100.0</td>\n",
       "      <td>0.0</td>\n",
       "      <td>1.0</td>\n",
       "      <td>27.026481</td>\n",
       "      <td>27.244955</td>\n",
       "      <td>26.867124</td>\n",
       "      <td>27.242385</td>\n",
       "      <td>111902700.0</td>\n",
       "    </tr>\n",
       "  </tbody>\n",
       "</table>\n",
       "</div>\n",
       "      <button class=\"colab-df-convert\" onclick=\"convertToInteractive('df-e1dc0ab9-2e01-421c-b385-8aa4f011a2d6')\"\n",
       "              title=\"Convert this dataframe to an interactive table.\"\n",
       "              style=\"display:none;\">\n",
       "        \n",
       "  <svg xmlns=\"http://www.w3.org/2000/svg\" height=\"24px\"viewBox=\"0 0 24 24\"\n",
       "       width=\"24px\">\n",
       "    <path d=\"M0 0h24v24H0V0z\" fill=\"none\"/>\n",
       "    <path d=\"M18.56 5.44l.94 2.06.94-2.06 2.06-.94-2.06-.94-.94-2.06-.94 2.06-2.06.94zm-11 1L8.5 8.5l.94-2.06 2.06-.94-2.06-.94L8.5 2.5l-.94 2.06-2.06.94zm10 10l.94 2.06.94-2.06 2.06-.94-2.06-.94-.94-2.06-.94 2.06-2.06.94z\"/><path d=\"M17.41 7.96l-1.37-1.37c-.4-.4-.92-.59-1.43-.59-.52 0-1.04.2-1.43.59L10.3 9.45l-7.72 7.72c-.78.78-.78 2.05 0 2.83L4 21.41c.39.39.9.59 1.41.59.51 0 1.02-.2 1.41-.59l7.78-7.78 2.81-2.81c.8-.78.8-2.07 0-2.86zM5.41 20L4 18.59l7.72-7.72 1.47 1.35L5.41 20z\"/>\n",
       "  </svg>\n",
       "      </button>\n",
       "      \n",
       "  <style>\n",
       "    .colab-df-container {\n",
       "      display:flex;\n",
       "      flex-wrap:wrap;\n",
       "      gap: 12px;\n",
       "    }\n",
       "\n",
       "    .colab-df-convert {\n",
       "      background-color: #E8F0FE;\n",
       "      border: none;\n",
       "      border-radius: 50%;\n",
       "      cursor: pointer;\n",
       "      display: none;\n",
       "      fill: #1967D2;\n",
       "      height: 32px;\n",
       "      padding: 0 0 0 0;\n",
       "      width: 32px;\n",
       "    }\n",
       "\n",
       "    .colab-df-convert:hover {\n",
       "      background-color: #E2EBFA;\n",
       "      box-shadow: 0px 1px 2px rgba(60, 64, 67, 0.3), 0px 1px 3px 1px rgba(60, 64, 67, 0.15);\n",
       "      fill: #174EA6;\n",
       "    }\n",
       "\n",
       "    [theme=dark] .colab-df-convert {\n",
       "      background-color: #3B4455;\n",
       "      fill: #D2E3FC;\n",
       "    }\n",
       "\n",
       "    [theme=dark] .colab-df-convert:hover {\n",
       "      background-color: #434B5C;\n",
       "      box-shadow: 0px 1px 3px 1px rgba(0, 0, 0, 0.15);\n",
       "      filter: drop-shadow(0px 1px 2px rgba(0, 0, 0, 0.3));\n",
       "      fill: #FFFFFF;\n",
       "    }\n",
       "  </style>\n",
       "\n",
       "      <script>\n",
       "        const buttonEl =\n",
       "          document.querySelector('#df-e1dc0ab9-2e01-421c-b385-8aa4f011a2d6 button.colab-df-convert');\n",
       "        buttonEl.style.display =\n",
       "          google.colab.kernel.accessAllowed ? 'block' : 'none';\n",
       "\n",
       "        async function convertToInteractive(key) {\n",
       "          const element = document.querySelector('#df-e1dc0ab9-2e01-421c-b385-8aa4f011a2d6');\n",
       "          const dataTable =\n",
       "            await google.colab.kernel.invokeFunction('convertToInteractive',\n",
       "                                                     [key], {});\n",
       "          if (!dataTable) return;\n",
       "\n",
       "          const docLinkHtml = 'Like what you see? Visit the ' +\n",
       "            '<a target=\"_blank\" href=https://colab.research.google.com/notebooks/data_table.ipynb>data table notebook</a>'\n",
       "            + ' to learn more about interactive tables.';\n",
       "          element.innerHTML = '';\n",
       "          dataTable['output_type'] = 'display_data';\n",
       "          await google.colab.output.renderOutput(dataTable, element);\n",
       "          const docLink = document.createElement('div');\n",
       "          docLink.innerHTML = docLinkHtml;\n",
       "          element.appendChild(docLink);\n",
       "        }\n",
       "      </script>\n",
       "    </div>\n",
       "  </div>\n",
       "  "
      ],
      "text/plain": [
       "         Date    Open    High     Low   Close      Volume  Ex-Dividend  \\\n",
       "0  2010-01-04  213.43  214.50  212.38  214.01  17633200.0          0.0   \n",
       "1  2010-01-05  214.60  215.59  213.25  214.38  21496600.0          0.0   \n",
       "2  2010-01-06  214.38  215.23  210.75  210.97  19720000.0          0.0   \n",
       "3  2010-01-07  211.75  212.00  209.05  210.58  17040400.0          0.0   \n",
       "4  2010-01-08  210.30  212.00  209.06  211.98  15986100.0          0.0   \n",
       "\n",
       "   Split Ratio  Adj. Open  Adj. High   Adj. Low  Adj. Close  Adj. Volume  \n",
       "0          1.0  27.428730  27.566240  27.293790   27.503268  123432400.0  \n",
       "1          1.0  27.579091  27.706320  27.405597   27.550818  150476200.0  \n",
       "2          1.0  27.550818  27.660055  27.084312   27.112585  138040000.0  \n",
       "3          1.0  27.212826  27.244955  26.865839   27.062465  119282800.0  \n",
       "4          1.0  27.026481  27.244955  26.867124   27.242385  111902700.0  "
      ]
     },
     "execution_count": 2,
     "metadata": {},
     "output_type": "execute_result"
    }
   ],
   "source": [
    "training_dataset=pd.read_csv('apple.csv')\n",
    "training_dataset.head()"
   ]
  },
  {
   "cell_type": "code",
   "execution_count": 3,
   "metadata": {
    "colab": {
     "base_uri": "https://localhost:8080/"
    },
    "id": "qYeB3E_joboe",
    "outputId": "d93ac678-fac9-445c-c01d-6da945237497"
   },
   "outputs": [
    {
     "name": "stdout",
     "output_type": "stream",
     "text": [
      "0\n"
     ]
    }
   ],
   "source": [
    "print(training_dataset.isna().sum().sum())"
   ]
  },
  {
   "cell_type": "code",
   "execution_count": 4,
   "metadata": {
    "id": "c7ndkeJGunY3"
   },
   "outputs": [],
   "source": [
    "training_dataset=training_dataset[['Open','High','Low']]"
   ]
  },
  {
   "cell_type": "code",
   "execution_count": 5,
   "metadata": {
    "colab": {
     "base_uri": "https://localhost:8080/",
     "height": 206
    },
    "id": "WGE958aDv_Wb",
    "outputId": "207644ae-66d9-4365-ef74-98f70318e8d5"
   },
   "outputs": [
    {
     "data": {
      "text/html": [
       "\n",
       "  <div id=\"df-a42d346d-879f-45ba-8d0e-a835f735458d\">\n",
       "    <div class=\"colab-df-container\">\n",
       "      <div>\n",
       "<style scoped>\n",
       "    .dataframe tbody tr th:only-of-type {\n",
       "        vertical-align: middle;\n",
       "    }\n",
       "\n",
       "    .dataframe tbody tr th {\n",
       "        vertical-align: top;\n",
       "    }\n",
       "\n",
       "    .dataframe thead th {\n",
       "        text-align: right;\n",
       "    }\n",
       "</style>\n",
       "<table border=\"1\" class=\"dataframe\">\n",
       "  <thead>\n",
       "    <tr style=\"text-align: right;\">\n",
       "      <th></th>\n",
       "      <th>Open</th>\n",
       "      <th>High</th>\n",
       "      <th>Low</th>\n",
       "    </tr>\n",
       "  </thead>\n",
       "  <tbody>\n",
       "    <tr>\n",
       "      <th>0</th>\n",
       "      <td>213.43</td>\n",
       "      <td>214.50</td>\n",
       "      <td>212.38</td>\n",
       "    </tr>\n",
       "    <tr>\n",
       "      <th>1</th>\n",
       "      <td>214.60</td>\n",
       "      <td>215.59</td>\n",
       "      <td>213.25</td>\n",
       "    </tr>\n",
       "    <tr>\n",
       "      <th>2</th>\n",
       "      <td>214.38</td>\n",
       "      <td>215.23</td>\n",
       "      <td>210.75</td>\n",
       "    </tr>\n",
       "    <tr>\n",
       "      <th>3</th>\n",
       "      <td>211.75</td>\n",
       "      <td>212.00</td>\n",
       "      <td>209.05</td>\n",
       "    </tr>\n",
       "    <tr>\n",
       "      <th>4</th>\n",
       "      <td>210.30</td>\n",
       "      <td>212.00</td>\n",
       "      <td>209.06</td>\n",
       "    </tr>\n",
       "  </tbody>\n",
       "</table>\n",
       "</div>\n",
       "      <button class=\"colab-df-convert\" onclick=\"convertToInteractive('df-a42d346d-879f-45ba-8d0e-a835f735458d')\"\n",
       "              title=\"Convert this dataframe to an interactive table.\"\n",
       "              style=\"display:none;\">\n",
       "        \n",
       "  <svg xmlns=\"http://www.w3.org/2000/svg\" height=\"24px\"viewBox=\"0 0 24 24\"\n",
       "       width=\"24px\">\n",
       "    <path d=\"M0 0h24v24H0V0z\" fill=\"none\"/>\n",
       "    <path d=\"M18.56 5.44l.94 2.06.94-2.06 2.06-.94-2.06-.94-.94-2.06-.94 2.06-2.06.94zm-11 1L8.5 8.5l.94-2.06 2.06-.94-2.06-.94L8.5 2.5l-.94 2.06-2.06.94zm10 10l.94 2.06.94-2.06 2.06-.94-2.06-.94-.94-2.06-.94 2.06-2.06.94z\"/><path d=\"M17.41 7.96l-1.37-1.37c-.4-.4-.92-.59-1.43-.59-.52 0-1.04.2-1.43.59L10.3 9.45l-7.72 7.72c-.78.78-.78 2.05 0 2.83L4 21.41c.39.39.9.59 1.41.59.51 0 1.02-.2 1.41-.59l7.78-7.78 2.81-2.81c.8-.78.8-2.07 0-2.86zM5.41 20L4 18.59l7.72-7.72 1.47 1.35L5.41 20z\"/>\n",
       "  </svg>\n",
       "      </button>\n",
       "      \n",
       "  <style>\n",
       "    .colab-df-container {\n",
       "      display:flex;\n",
       "      flex-wrap:wrap;\n",
       "      gap: 12px;\n",
       "    }\n",
       "\n",
       "    .colab-df-convert {\n",
       "      background-color: #E8F0FE;\n",
       "      border: none;\n",
       "      border-radius: 50%;\n",
       "      cursor: pointer;\n",
       "      display: none;\n",
       "      fill: #1967D2;\n",
       "      height: 32px;\n",
       "      padding: 0 0 0 0;\n",
       "      width: 32px;\n",
       "    }\n",
       "\n",
       "    .colab-df-convert:hover {\n",
       "      background-color: #E2EBFA;\n",
       "      box-shadow: 0px 1px 2px rgba(60, 64, 67, 0.3), 0px 1px 3px 1px rgba(60, 64, 67, 0.15);\n",
       "      fill: #174EA6;\n",
       "    }\n",
       "\n",
       "    [theme=dark] .colab-df-convert {\n",
       "      background-color: #3B4455;\n",
       "      fill: #D2E3FC;\n",
       "    }\n",
       "\n",
       "    [theme=dark] .colab-df-convert:hover {\n",
       "      background-color: #434B5C;\n",
       "      box-shadow: 0px 1px 3px 1px rgba(0, 0, 0, 0.15);\n",
       "      filter: drop-shadow(0px 1px 2px rgba(0, 0, 0, 0.3));\n",
       "      fill: #FFFFFF;\n",
       "    }\n",
       "  </style>\n",
       "\n",
       "      <script>\n",
       "        const buttonEl =\n",
       "          document.querySelector('#df-a42d346d-879f-45ba-8d0e-a835f735458d button.colab-df-convert');\n",
       "        buttonEl.style.display =\n",
       "          google.colab.kernel.accessAllowed ? 'block' : 'none';\n",
       "\n",
       "        async function convertToInteractive(key) {\n",
       "          const element = document.querySelector('#df-a42d346d-879f-45ba-8d0e-a835f735458d');\n",
       "          const dataTable =\n",
       "            await google.colab.kernel.invokeFunction('convertToInteractive',\n",
       "                                                     [key], {});\n",
       "          if (!dataTable) return;\n",
       "\n",
       "          const docLinkHtml = 'Like what you see? Visit the ' +\n",
       "            '<a target=\"_blank\" href=https://colab.research.google.com/notebooks/data_table.ipynb>data table notebook</a>'\n",
       "            + ' to learn more about interactive tables.';\n",
       "          element.innerHTML = '';\n",
       "          dataTable['output_type'] = 'display_data';\n",
       "          await google.colab.output.renderOutput(dataTable, element);\n",
       "          const docLink = document.createElement('div');\n",
       "          docLink.innerHTML = docLinkHtml;\n",
       "          element.appendChild(docLink);\n",
       "        }\n",
       "      </script>\n",
       "    </div>\n",
       "  </div>\n",
       "  "
      ],
      "text/plain": [
       "     Open    High     Low\n",
       "0  213.43  214.50  212.38\n",
       "1  214.60  215.59  213.25\n",
       "2  214.38  215.23  210.75\n",
       "3  211.75  212.00  209.05\n",
       "4  210.30  212.00  209.06"
      ]
     },
     "execution_count": 5,
     "metadata": {},
     "output_type": "execute_result"
    }
   ],
   "source": [
    "training_dataset.head()"
   ]
  },
  {
   "cell_type": "code",
   "execution_count": 6,
   "metadata": {
    "colab": {
     "base_uri": "https://localhost:8080/",
     "height": 576
    },
    "id": "C-vi0KA3wNDg",
    "outputId": "b467bd6f-51b6-4d83-91bd-b6ff99814840"
   },
   "outputs": [
    {
     "data": {
      "text/plain": [
       "<matplotlib.axes._subplots.AxesSubplot at 0x7f67e77f9390>"
      ]
     },
     "execution_count": 6,
     "metadata": {},
     "output_type": "execute_result"
    },
    {
     "data": {
      "image/png": "[encoded data removed]",
      "text/plain": [
       "<Figure size 432x288 with 3 Axes>"
      ]
     },
     "metadata": {
      "needs_background": "light"
     },
     "output_type": "display_data"
    },
    {
     "data": {
      "image/png": "[encoded data removed]",
      "text/plain": [
       "<Figure size 432x288 with 1 Axes>"
      ]
     },
     "metadata": {
      "needs_background": "light"
     },
     "output_type": "display_data"
    }
   ],
   "source": [
    "training_dataset.plot.line(subplots=True, title='Apple stock price')\n",
    "training_dataset.plot.line(title='Apple stock price')"
   ]
  },
  {
   "cell_type": "code",
   "execution_count": 7,
   "metadata": {
    "id": "l41Wm_W0xSSv"
   },
   "outputs": [],
   "source": [
    "training_dataset.drop(columns=['High','Low'],axis=1,inplace=True)"
   ]
  },
  {
   "cell_type": "code",
   "execution_count": 8,
   "metadata": {
    "id": "vo1SdaSqz5FG"
   },
   "outputs": [],
   "source": [
    "train_data=training_dataset.to_numpy()"
   ]
  },
  {
   "cell_type": "code",
   "execution_count": 9,
   "metadata": {
    "id": "tXO1NEPI0Jpv"
   },
   "outputs": [],
   "source": [
    "#train test split manwal\n",
    "dataset_train=np.array(train_data[:int(train_data.shape[0]*0.8)])\n",
    "dataset_test=np.array(train_data[:int(train_data.shape[0]*0.8):])"
   ]
  },
  {
   "cell_type": "code",
   "execution_count": 10,
   "metadata": {
    "colab": {
     "base_uri": "https://localhost:8080/"
    },
    "id": "tFPcWt261fgK",
    "outputId": "83206351-fe0c-418b-dc5d-de95b6bd081e"
   },
   "outputs": [
    {
     "data": {
      "text/plain": [
       "(1409, 1)"
      ]
     },
     "execution_count": 10,
     "metadata": {},
     "output_type": "execute_result"
    }
   ],
   "source": [
    "dataset_test.shape"
   ]
  },
  {
   "cell_type": "code",
   "execution_count": 11,
   "metadata": {
    "id": "u1VyqivP2N0H"
   },
   "outputs": [],
   "source": [
    "from keras.engine.sequential import Sequential\n",
    "from sklearn.preprocessing import MinMaxScaler\n",
    "from sklearn.metrics import mean_squared_error\n",
    "\n",
    "from keras import layers\n",
    "from keras import models\n",
    "from keras.models import Sequential\n",
    "from keras.layers import Dense\n",
    "from keras.layers import Dropout\n",
    "from keras.layers import LSTM"
   ]
  },
  {
   "cell_type": "code",
   "execution_count": 12,
   "metadata": {
    "id": "qxalhzP-7ACG"
   },
   "outputs": [],
   "source": [
    "scalar=MinMaxScaler(feature_range=(0,1))"
   ]
  },
  {
   "cell_type": "code",
   "execution_count": 13,
   "metadata": {
    "id": "i7HfQ8qo7tRg"
   },
   "outputs": [],
   "source": [
    "train_data=scalar.fit_transform(dataset_train)"
   ]
  },
  {
   "cell_type": "code",
   "execution_count": 14,
   "metadata": {
    "id": "dyenEHm486yl"
   },
   "outputs": [],
   "source": [
    "x_train=train_data[0:1407]\n",
    "y_train=train_data[1:1408]"
   ]
  },
  {
   "cell_type": "code",
   "execution_count": 15,
   "metadata": {
    "id": "klRLHsDA_zlQ"
   },
   "outputs": [],
   "source": [
    "x_train=np.reshape(x_train,(1407,1,1))"
   ]
  },
  {
   "cell_type": "code",
   "execution_count": 26,
   "metadata": {
    "colab": {
     "base_uri": "https://localhost:8080/"
    },
    "id": "jTLosK2fAOBe",
    "outputId": "391d0acb-4600-4e48-8a14-1fae787d95b9"
   },
   "outputs": [
    {
     "name": "stdout",
     "output_type": "stream",
     "text": [
      "Model: \"sequential_1\"\n",
      "_________________________________________________________________\n",
      " Layer (type)                Output Shape              Param #   \n",
      "=================================================================\n",
      " lstm_3 (LSTM)               (None, None, 64)          16896     \n",
      "                                                                 \n",
      " dropout_3 (Dropout)         (None, None, 64)          0         \n",
      "                                                                 \n",
      " lstm_4 (LSTM)               (None, None, 32)          12416     \n",
      "                                                                 \n",
      " dropout_4 (Dropout)         (None, None, 32)          0         \n",
      "                                                                 \n",
      " lstm_5 (LSTM)               (None, 32)                8320      \n",
      "                                                                 \n",
      " dropout_5 (Dropout)         (None, 32)                0         \n",
      "                                                                 \n",
      " dense_1 (Dense)             (None, 1)                 33        \n",
      "                                                                 \n",
      "=================================================================\n",
      "Total params: 37,665\n",
      "Trainable params: 37,665\n",
      "Non-trainable params: 0\n",
      "_________________________________________________________________\n"
     ]
    }
   ],
   "source": [
    "from keras.backend import dropout\n",
    "model= Sequential()\n",
    "\n",
    "model.add(LSTM(units=64,return_sequences=True,input_shape=(None,1)))\n",
    "\n",
    "model.add(Dropout(0.2))\n",
    "model.add(LSTM(units=32,return_sequences=True))\n",
    "\n",
    "model.add(Dropout(0.2))\n",
    "model.add(LSTM(units=32))\n",
    "\n",
    "model.add(Dropout(0.2))\n",
    "model.add(Dense(units=1))\n",
    "model.summary()"
   ]
  },
  {
   "cell_type": "code",
   "execution_count": 17,
   "metadata": {
    "id": "1aDOjB0YCPPj"
   },
   "outputs": [],
   "source": [
    "model.compile(optimizer='adam',loss='mean_squared_error')"
   ]
  },
  {
   "cell_type": "code",
   "execution_count": 18,
   "metadata": {
    "colab": {
     "base_uri": "https://localhost:8080/"
    },
    "id": "va2a57YQEFau",
    "outputId": "db216605-7dbc-4b5a-848c-6deca280b731"
   },
   "outputs": [
    {
     "name": "stdout",
     "output_type": "stream",
     "text": [
      "Epoch 1/50\n",
      "44/44 [==============================] - 10s 6ms/step - loss: 0.2037\n",
      "Epoch 2/50\n",
      "44/44 [==============================] - 0s 7ms/step - loss: 0.0533\n",
      "Epoch 3/50\n",
      "44/44 [==============================] - 0s 7ms/step - loss: 0.0263\n",
      "Epoch 4/50\n",
      "44/44 [==============================] - 0s 7ms/step - loss: 0.0129\n",
      "Epoch 5/50\n",
      "44/44 [==============================] - 0s 7ms/step - loss: 0.0098\n",
      "Epoch 6/50\n",
      "44/44 [==============================] - 0s 6ms/step - loss: 0.0096\n",
      "Epoch 7/50\n",
      "44/44 [==============================] - 0s 6ms/step - loss: 0.0083\n",
      "Epoch 8/50\n",
      "44/44 [==============================] - 0s 6ms/step - loss: 0.0074\n",
      "Epoch 9/50\n",
      "44/44 [==============================] - 0s 6ms/step - loss: 0.0071\n",
      "Epoch 10/50\n",
      "44/44 [==============================] - 0s 7ms/step - loss: 0.0061\n",
      "Epoch 11/50\n",
      "44/44 [==============================] - 0s 7ms/step - loss: 0.0062\n",
      "Epoch 12/50\n",
      "44/44 [==============================] - 0s 7ms/step - loss: 0.0055\n",
      "Epoch 13/50\n",
      "44/44 [==============================] - 0s 6ms/step - loss: 0.0058\n",
      "Epoch 14/50\n",
      "44/44 [==============================] - 0s 6ms/step - loss: 0.0052\n",
      "Epoch 15/50\n",
      "44/44 [==============================] - 0s 7ms/step - loss: 0.0044\n",
      "Epoch 16/50\n",
      "44/44 [==============================] - 0s 7ms/step - loss: 0.0048\n",
      "Epoch 17/50\n",
      "44/44 [==============================] - 0s 7ms/step - loss: 0.0046\n",
      "Epoch 18/50\n",
      "44/44 [==============================] - 0s 7ms/step - loss: 0.0046\n",
      "Epoch 19/50\n",
      "44/44 [==============================] - 0s 7ms/step - loss: 0.0045\n",
      "Epoch 20/50\n",
      "44/44 [==============================] - 0s 6ms/step - loss: 0.0042\n",
      "Epoch 21/50\n",
      "44/44 [==============================] - 0s 7ms/step - loss: 0.0041\n",
      "Epoch 22/50\n",
      "44/44 [==============================] - 0s 6ms/step - loss: 0.0041\n",
      "Epoch 23/50\n",
      "44/44 [==============================] - 0s 7ms/step - loss: 0.0041\n",
      "Epoch 24/50\n",
      "44/44 [==============================] - 0s 7ms/step - loss: 0.0040\n",
      "Epoch 25/50\n",
      "44/44 [==============================] - 0s 7ms/step - loss: 0.0038\n",
      "Epoch 26/50\n",
      "44/44 [==============================] - 0s 7ms/step - loss: 0.0044\n",
      "Epoch 27/50\n",
      "44/44 [==============================] - 0s 6ms/step - loss: 0.0038\n",
      "Epoch 28/50\n",
      "44/44 [==============================] - 0s 7ms/step - loss: 0.0041\n",
      "Epoch 29/50\n",
      "44/44 [==============================] - 0s 7ms/step - loss: 0.0036\n",
      "Epoch 30/50\n",
      "44/44 [==============================] - 0s 6ms/step - loss: 0.0039\n",
      "Epoch 31/50\n",
      "44/44 [==============================] - 0s 6ms/step - loss: 0.0036\n",
      "Epoch 32/50\n",
      "44/44 [==============================] - 0s 7ms/step - loss: 0.0035\n",
      "Epoch 33/50\n",
      "44/44 [==============================] - 0s 6ms/step - loss: 0.0039\n",
      "Epoch 34/50\n",
      "44/44 [==============================] - 0s 6ms/step - loss: 0.0039\n",
      "Epoch 35/50\n",
      "44/44 [==============================] - 0s 6ms/step - loss: 0.0038\n",
      "Epoch 36/50\n",
      "44/44 [==============================] - 0s 6ms/step - loss: 0.0033\n",
      "Epoch 37/50\n",
      "44/44 [==============================] - 0s 7ms/step - loss: 0.0033\n",
      "Epoch 38/50\n",
      "44/44 [==============================] - 0s 7ms/step - loss: 0.0032\n",
      "Epoch 39/50\n",
      "44/44 [==============================] - 0s 7ms/step - loss: 0.0036\n",
      "Epoch 40/50\n",
      "44/44 [==============================] - 0s 6ms/step - loss: 0.0034\n",
      "Epoch 41/50\n",
      "44/44 [==============================] - 0s 7ms/step - loss: 0.0034\n",
      "Epoch 42/50\n",
      "44/44 [==============================] - 0s 7ms/step - loss: 0.0034\n",
      "Epoch 43/50\n",
      "44/44 [==============================] - 0s 6ms/step - loss: 0.0031\n",
      "Epoch 44/50\n",
      "44/44 [==============================] - 0s 7ms/step - loss: 0.0029\n",
      "Epoch 45/50\n",
      "44/44 [==============================] - 0s 7ms/step - loss: 0.0030\n",
      "Epoch 46/50\n",
      "44/44 [==============================] - 0s 6ms/step - loss: 0.0034\n",
      "Epoch 47/50\n",
      "44/44 [==============================] - 0s 6ms/step - loss: 0.0034\n",
      "Epoch 48/50\n",
      "44/44 [==============================] - 0s 6ms/step - loss: 0.0032\n",
      "Epoch 49/50\n",
      "44/44 [==============================] - 0s 7ms/step - loss: 0.0030\n",
      "Epoch 50/50\n",
      "44/44 [==============================] - 0s 6ms/step - loss: 0.0034\n"
     ]
    },
    {
     "data": {
      "text/plain": [
       "<keras.callbacks.History at 0x7f67e2589950>"
      ]
     },
     "execution_count": 18,
     "metadata": {},
     "output_type": "execute_result"
    }
   ],
   "source": [
    "model.fit(x_train,y_train,epochs=50,batch_size=32 )"
   ]
  },
  {
   "cell_type": "code",
   "execution_count": 32,
   "metadata": {
    "id": "8wh3bYkCE18b"
   },
   "outputs": [],
   "source": [
    "inputs=np.reshape(scalar.transform(dataset_test),(1409,1,1))\n",
    "stock_predictions=scalar.inverse_transform(model.predict(inputs))"
   ]
  },
  {
   "cell_type": "code",
   "execution_count": 31,
   "metadata": {
    "colab": {
     "base_uri": "https://localhost:8080/"
    },
    "id": "McWxK0HnHOzo",
    "outputId": "d17f0ef3-5419-4345-9281-eaebd803b459"
   },
   "outputs": [
    {
     "data": {
      "text/plain": [
       "array([218.19888 , 219.34685 , 219.13094 , ..., 122.5634  , 125.339096,\n",
       "       124.06068 ], dtype=float32)"
      ]
     },
     "execution_count": 31,
     "metadata": {},
     "output_type": "execute_result"
    }
   ],
   "source": [
    "stock_predictions"
   ]
  },
  {
   "cell_type": "code",
   "execution_count": 30,
   "metadata": {
    "colab": {
     "base_uri": "https://localhost:8080/"
    },
    "id": "Ei72Y6_pHpDk",
    "outputId": "4196c76d-293f-46eb-f03a-0eb3d77e6756"
   },
   "outputs": [
    {
     "data": {
      "text/plain": [
       "array([218.19888 , 219.34685 , 219.13094 , ..., 122.5634  , 125.339096,\n",
       "       124.06068 ], dtype=float32)"
      ]
     },
     "execution_count": 30,
     "metadata": {},
     "output_type": "execute_result"
    }
   ],
   "source": [
    "stock_predictions=np.squeeze(stock_predictions)\n",
    "stock_predictions"
   ]
  },
  {
   "cell_type": "code",
   "execution_count": 29,
   "metadata": {
    "id": "7sefF6WsIcPB"
   },
   "outputs": [],
   "source": [
    "stock_predictions=stock_predictions.reshape(-1,1)"
   ]
  },
  {
   "cell_type": "code",
   "execution_count": 28,
   "metadata": {
    "colab": {
     "base_uri": "https://localhost:8080/"
    },
    "id": "pGMKU2NJIq73",
    "outputId": "3bd8c20a-7886-40bc-aefa-6ffaa4ccab07"
   },
   "outputs": [
    {
     "name": "stdout",
     "output_type": "stream",
     "text": [
      "7.610415097698501\n"
     ]
    }
   ],
   "source": [
    "import math\n",
    "rmse=math.sqrt(mean_squared_error(dataset_test,stock_predictions))\n",
    "print(rmse)"
   ]
  },
  {
   "cell_type": "code",
   "execution_count": 33,
   "metadata": {
    "colab": {
     "base_uri": "https://localhost:8080/",
     "height": 294
    },
    "id": "UumKww9jJFF_",
    "outputId": "f3e91afc-aa03-4222-99e3-720be3939212"
   },
   "outputs": [
    {
     "data": {
      "image/png": "[encoded data removed]",
      "text/plain": [
       "<Figure size 432x288 with 1 Axes>"
      ]
     },
     "metadata": {
      "needs_background": "light"
     },
     "output_type": "display_data"
    }
   ],
   "source": [
    "#Graph the real stock prices against the model's prediction\n",
    "plt.plot(stock_predictions, label = 'Predicted Apple Stock Price', linewidth = 1.5)\n",
    "plt.plot(dataset_test, label = 'Real Apple Stock Price', linewidth = 1.5)\n",
    "plt.title(\"Apple Stock Price Prediction with LSTM's\")\n",
    "plt.xlabel('Time (measured in days)')\n",
    "plt.ylabel('Apple Stock Price($)')\n",
    "plt.legend()\n",
    "plt.show()"
   ]
  }
 ],
 "metadata": {
  "accelerator": "GPU",
  "colab": {
   "collapsed_sections": [],
   "name": "LSTM.ipynb",
   "provenance": []
  },
  "kernelspec": {
   "display_name": "Python 3",
   "language": "python",
   "name": "python3"
  },
  "language_info": {
   "codemirror_mode": {
    "name": "ipython",
    "version": 3
   },
   "file_extension": ".py",
   "mimetype": "text/x-python",
   "name": "python",
   "nbconvert_exporter": "python",
   "pygments_lexer": "ipython3",
   "version": "3.8.8"
  }
 },
 "nbformat": 4,
 "nbformat_minor": 1
}
